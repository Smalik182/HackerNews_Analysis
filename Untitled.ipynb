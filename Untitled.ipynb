{
 "cells": [
  {
   "cell_type": "markdown",
   "id": "c994b838",
   "metadata": {},
   "source": [
    "# Hacker News Analysis\n",
    "\n",
    "In this project we will analyze posts from Hacker News, a popular site where technology related stories are voted and commented on. Much like Reddit. \n",
    "\n",
    "We want to analyze two types of posts on the site, \"Ask HN\" and \"Show HN\" to see what type of posts generates more interest and engagement from users. \n",
    "\n",
    "We will specifically compare the teo types of posts to determine the following:\n",
    "    Do Ask HN or Show HN receive more comments on average?\n",
    "    Do posts created at a certain time receive more comments?\n",
    "    \n",
    "Note: The data set that we are using has been filtered down from 300,000 rows to approximately 20,000 rows. This was done by removing all posts that received no comments, and then randomly sampling from the remaining submissions.\n",
    "\n",
    "The dataset contains the following columns:\n",
    "    id: the unique identifier from Hacker News for the post\n",
    "    title: the title of the post\n",
    "    url: the URL that the posts links to, if the post has a URL\n",
    "    num_points: the number of points the post acquired, calculated as the total number of upvotes minus     the total number of downvotes\n",
    "    num_comments: the number of comments on the post\n",
    "    author: the username of the person who submitted the post\n",
    "    created_at: the date and time of the post's submission\n"
   ]
  },
  {
   "cell_type": "markdown",
   "id": "60a9447c",
   "metadata": {},
   "source": [
    "Getting the Data"
   ]
  },
  {
   "cell_type": "code",
   "execution_count": 4,
   "id": "7daa3448",
   "metadata": {},
   "outputs": [
    {
     "name": "stdout",
     "output_type": "stream",
     "text": [
      "['id', 'title', 'url', 'num_points', 'num_comments', 'author', 'created_at']\n"
     ]
    }
   ],
   "source": [
    "import datetime as dt\n",
    "import random\n",
    "from csv import reader\n",
    "\n",
    "opened_file = open(r\"C:\\Users\\MalikSami\\Desktop\\Data_Analytics\\HackerNews_Analysis\\hacker_news.csv\",\n",
    "                   encoding=\"utf8\")\n",
    "read_file = reader(opened_file)\n",
    "\n",
    "hn = list(read_file)\n",
    "\n",
    "header = hn[0]\n",
    "print(header)\n",
    "hn = hn[1:] ## This will remove the header from the list\n"
   ]
  },
  {
   "cell_type": "code",
   "execution_count": 2,
   "id": "fa3bb866",
   "metadata": {},
   "outputs": [
    {
     "name": "stdout",
     "output_type": "stream",
     "text": [
      "['10975351', 'How to Use Open Source and Shut the Fuck Up at the Same Time', 'http://hueniverse.com/2016/01/26/how-to-use-open-source-and-shut-the-fuck-up-at-the-same-time/', '39', '10', 'josep2', '1/26/2016 19:30']\n"
     ]
    }
   ],
   "source": [
    "print(hn[1])"
   ]
  },
  {
   "cell_type": "markdown",
   "id": "22acd3d2",
   "metadata": {},
   "source": [
    "## Explore Data Function\n",
    "\n",
    "This function will allow us to view data slices with ease. "
   ]
  },
  {
   "cell_type": "code",
   "execution_count": 5,
   "id": "edc636f1",
   "metadata": {},
   "outputs": [],
   "source": [
    "def explore_data(dataSet, start, end, rows_and_columns = False):\n",
    "    dataSet_slice = dataSet[start:end]\n",
    "    for row in dataSet_slice:\n",
    "        print(row)\n",
    "        print('\\n')\n",
    "    if rows_and_columns:\n",
    "        print('Number of rows: ', len(dataSet))\n",
    "        print('Number of columns: ', len(dataSet[0]))"
   ]
  },
  {
   "cell_type": "code",
   "execution_count": 31,
   "id": "cf0bff32",
   "metadata": {},
   "outputs": [
    {
     "name": "stdout",
     "output_type": "stream",
     "text": [
      "['12296411', 'Ask HN: How to improve my personal website?', '', '2', '6', 'ahmedbaracat', '8/16/2016 9:55']\n",
      "\n",
      "\n",
      "['10610020', 'Ask HN: Am I the only one outraged by Twitter shutting down share counts?', '', '28', '29', 'tkfx', '11/22/2015 13:43']\n",
      "\n",
      "\n",
      "['11610310', 'Ask HN: Aby recent changes to CSS that broke mobile?', '', '1', '1', 'polskibus', '5/2/2016 10:14']\n",
      "\n",
      "\n",
      "['12210105', 'Ask HN: Looking for Employee #3 How do I do it?', '', '1', '3', 'sph130', '8/2/2016 14:20']\n",
      "\n",
      "\n",
      "['10394168', 'Ask HN: Someone offered to buy my browser extension from me. What now?', '', '28', '17', 'roykolak', '10/15/2015 16:38']\n",
      "\n",
      "\n",
      "Number of rows:  1744\n",
      "Number of columns:  7\n"
     ]
    }
   ],
   "source": [
    "explore_data(ask_posts,0,5,True)"
   ]
  },
  {
   "cell_type": "markdown",
   "id": "f02340bc",
   "metadata": {},
   "source": [
    "## Removing the data with 0 comments\n",
    "\n",
    "Here we create a new list and populate it with the rows that have at least one comment. We can do this by running a for loop to iterate through the data and append into the new list as long as the attribute of the 4th column is not \"0\"(note this is a string, not an integer)."
   ]
  },
  {
   "cell_type": "code",
   "execution_count": 6,
   "id": "415955f1",
   "metadata": {},
   "outputs": [],
   "source": [
    "hn_with_comments = []\n",
    "for row in hn:\n",
    "    comments = row[4]\n",
    "    if comments != \"0\":\n",
    "        hn_with_comments.append(row)"
   ]
  },
  {
   "cell_type": "code",
   "execution_count": 7,
   "id": "5f9ca0ee",
   "metadata": {},
   "outputs": [
    {
     "name": "stdout",
     "output_type": "stream",
     "text": [
      "['10975351', 'How to Use Open Source and Shut the Fuck Up at the Same Time', 'http://hueniverse.com/2016/01/26/how-to-use-open-source-and-shut-the-fuck-up-at-the-same-time/', '39', '10', 'josep2', '1/26/2016 19:30']\n",
      "20100\n"
     ]
    }
   ],
   "source": [
    "print(hn_with_comments[1])\n",
    "print(len(hn_with_comments))"
   ]
  },
  {
   "cell_type": "markdown",
   "id": "46142259",
   "metadata": {},
   "source": [
    "## Further Filtering\n",
    "\n",
    "We want to split the data into seperate lists of:\n",
    "    ask_posts[]\n",
    "    show_posts[]\n",
    "    other_posts[]\n",
    "    \n",
    "This will make the analysis easier.\n",
    "We should iterate through the filtered list \"hn_with_comments\" and assign the second column \"title\" to a variable named title.\n",
    "Then we can make use of the lower() to make all the data inside this column lowercase. This will help in not making any errors with our code.\n",
    "Next we can write a simple if statement and use the startswith() to append into the proper list. \n"
   ]
  },
  {
   "cell_type": "code",
   "execution_count": 8,
   "id": "5f6ab6f3",
   "metadata": {},
   "outputs": [],
   "source": [
    "ask_posts = []\n",
    "show_posts = []\n",
    "other_posts = []\n",
    "\n",
    "for row in hn_with_comments:\n",
    "    title = row[1]\n",
    "    title = title.lower()\n",
    "    if title.startswith(\"ask hn\"):\n",
    "        ask_posts.append(row)\n",
    "    elif title.startswith(\"show hn\"):\n",
    "        show_posts.append(row)\n",
    "    else:\n",
    "        other_posts.append(row)"
   ]
  },
  {
   "cell_type": "code",
   "execution_count": 9,
   "id": "1e70f949",
   "metadata": {},
   "outputs": [
    {
     "name": "stdout",
     "output_type": "stream",
     "text": [
      "['12296411', 'Ask HN: How to improve my personal website?', '', '2', '6', 'ahmedbaracat', '8/16/2016 9:55']\n",
      "\n",
      "\n",
      "['10610020', 'Ask HN: Am I the only one outraged by Twitter shutting down share counts?', '', '28', '29', 'tkfx', '11/22/2015 13:43']\n",
      "\n",
      "\n",
      "['11610310', 'Ask HN: Aby recent changes to CSS that broke mobile?', '', '1', '1', 'polskibus', '5/2/2016 10:14']\n",
      "\n",
      "\n",
      "['12210105', 'Ask HN: Looking for Employee #3 How do I do it?', '', '1', '3', 'sph130', '8/2/2016 14:20']\n",
      "\n",
      "\n",
      "Number of rows:  1744\n",
      "Number of columns:  7\n"
     ]
    }
   ],
   "source": [
    "explore_data(ask_posts, 0, 4, True)"
   ]
  },
  {
   "cell_type": "code",
   "execution_count": 7,
   "id": "be2f36f2",
   "metadata": {},
   "outputs": [
    {
     "name": "stdout",
     "output_type": "stream",
     "text": [
      "The number of ask posts are:  1744\n",
      "The number of show posts are:  1162\n",
      "The number of other posts are:  17194\n"
     ]
    }
   ],
   "source": [
    "print(\"The number of ask posts are: \", len(ask_posts))\n",
    "print(\"The number of show posts are: \", len(show_posts))\n",
    "print(\"The number of other posts are: \", len(other_posts))"
   ]
  },
  {
   "cell_type": "markdown",
   "id": "54de5558",
   "metadata": {},
   "source": [
    "## Which posts recieve more comments? Ask or Show?\n",
    "\n",
    "Since we filtered the data into two seperate lists of \"ask_posts\" and \"show_posts\", we can simply run a for loop on each list to get the total ask comments and then do calculations to find the number of average comments on each type of post. \n",
    "\n",
    "We can see from the output that \"ask_posts\" recieve on average 14 comments per post where as \"show_posts\" only receive 10 comments per post on average. \n",
    "\n",
    "We can focus the rest of our analysis on ask posts, since they are the ones that recieve more comments.\n"
   ]
  },
  {
   "cell_type": "code",
   "execution_count": 11,
   "id": "bb3f4649",
   "metadata": {},
   "outputs": [
    {
     "name": "stdout",
     "output_type": "stream",
     "text": [
      "Total number of ask comments is:  24483\n",
      "The average number of comments on ask posts are:  14.038417431192661\n"
     ]
    }
   ],
   "source": [
    "total_ask_comments = 0\n",
    "\n",
    "for posts in ask_posts:\n",
    "    total_ask_comments += int(posts[4])\n",
    "    \n",
    "    \n",
    "print(\"Total number of ask comments is: \",  total_ask_comments)\n",
    "average_ask_comments = total_ask_comments / len(ask_posts)\n",
    "print(\"The average number of comments on ask posts are: \", average_ask_comments)\n",
    "    \n"
   ]
  },
  {
   "cell_type": "code",
   "execution_count": 14,
   "id": "a5003052",
   "metadata": {},
   "outputs": [
    {
     "name": "stdout",
     "output_type": "stream",
     "text": [
      "Total number of show comments is:  11988\n",
      "1162\n",
      "The average number of comments on show posts are:  10.31669535283993\n"
     ]
    }
   ],
   "source": [
    "total_show_comments = 0\n",
    "\n",
    "for posts in show_posts:\n",
    "\n",
    "    total_show_comments += int(posts[4])\n",
    "    \n",
    "    \n",
    "print(\"Total number of show comments is: \",  total_show_comments)\n",
    "average_show_comments = total_show_comments / len(show_posts)\n",
    "print(\"The average number of comments on show posts are: \", average_show_comments)"
   ]
  },
  {
   "cell_type": "markdown",
   "id": "e4e4669f",
   "metadata": {},
   "source": [
    "## Finding Comments by Hour Created\n",
    "\n",
    "We can determine if we can maximize the number of comments a ask post receives by creating it at a certain hour. We can do this by finding the number of ask posts created during each hour of the day, along with the number of comments those posts received. \n",
    "\n",
    "Then we can create a dictionary and insert the data. We can then create a new list of lists \"avg_by_hour\" to store the average number of comments per hour. We can do this by running a for loop on \"comments_by_hour\" and appending the calculated average to \"avg_by_hour\"."
   ]
  },
  {
   "cell_type": "code",
   "execution_count": 30,
   "id": "51f56a60",
   "metadata": {},
   "outputs": [
    {
     "data": {
      "text/plain": [
       "{'09': 45,\n",
       " '13': 85,\n",
       " '10': 59,\n",
       " '14': 107,\n",
       " '16': 108,\n",
       " '23': 68,\n",
       " '12': 73,\n",
       " '17': 100,\n",
       " '15': 116,\n",
       " '21': 109,\n",
       " '20': 80,\n",
       " '02': 58,\n",
       " '18': 109,\n",
       " '03': 54,\n",
       " '05': 46,\n",
       " '19': 110,\n",
       " '01': 60,\n",
       " '22': 71,\n",
       " '08': 48,\n",
       " '04': 47,\n",
       " '00': 55,\n",
       " '06': 44,\n",
       " '07': 34,\n",
       " '11': 58}"
      ]
     },
     "execution_count": 30,
     "metadata": {},
     "output_type": "execute_result"
    }
   ],
   "source": [
    "result_list = []\n",
    "\n",
    "for post in ask_posts:\n",
    "    created_at = post[6]\n",
    "    total_comments = int(post[4])\n",
    "    result_list.append([created_at,total_comments])\n",
    "    \n",
    "counts_by_hour = {}\n",
    "comments_by_hour = {}\n",
    "date_format = \"%m/%d/%Y %H:%M\"\n",
    "\n",
    "for row in result_list:\n",
    "    date = row[0]\n",
    "    comment = row[1]\n",
    "    time = dt.datetime.strptime(date, date_format).strftime(\"%H\")\n",
    "    if time in counts_by_hour:\n",
    "        comments_by_hour[time] += comment\n",
    "        counts_by_hour[time] += 1\n",
    "    else:\n",
    "        comments_by_hour[time] = comment\n",
    "        counts_by_hour[time] = 1\n",
    "        \n",
    "counts_by_hour\n"
   ]
  },
  {
   "cell_type": "code",
   "execution_count": 28,
   "id": "8c5a3470",
   "metadata": {},
   "outputs": [
    {
     "data": {
      "text/plain": [
       "[['09', 5.5777777777777775],\n",
       " ['13', 14.741176470588234],\n",
       " ['10', 13.440677966101696],\n",
       " ['14', 13.233644859813085],\n",
       " ['16', 16.796296296296298],\n",
       " ['23', 7.985294117647059],\n",
       " ['12', 9.41095890410959],\n",
       " ['17', 11.46],\n",
       " ['15', 38.5948275862069],\n",
       " ['21', 16.009174311926607],\n",
       " ['20', 21.525],\n",
       " ['02', 23.810344827586206],\n",
       " ['18', 13.20183486238532],\n",
       " ['03', 7.796296296296297],\n",
       " ['05', 10.08695652173913],\n",
       " ['19', 10.8],\n",
       " ['01', 11.383333333333333],\n",
       " ['22', 6.746478873239437],\n",
       " ['08', 10.25],\n",
       " ['04', 7.170212765957447],\n",
       " ['00', 8.127272727272727],\n",
       " ['06', 9.022727272727273],\n",
       " ['07', 7.852941176470588],\n",
       " ['11', 11.051724137931034]]"
      ]
     },
     "execution_count": 28,
     "metadata": {},
     "output_type": "execute_result"
    }
   ],
   "source": [
    "avg_by_hour = []\n",
    "\n",
    "for hour in comments_by_hour:\n",
    "    avg_by_hour.append([hour, comments_by_hour[hour] / counts_by_hour[hour]])\n",
    "    \n",
    "avg_by_hour\n",
    "                        \n"
   ]
  },
  {
   "cell_type": "markdown",
   "id": "0a407cdd",
   "metadata": {},
   "source": [
    "## Sorting and Displaying Values \n",
    "\n",
    "Now that we have the \"avg_by_hour\" list we can swap the average and hour as well as sort the list in decending order to increase readability. We can do this by creating a new list and swapping the values and appending to the list \"swap_avg_by_hour\". Then we can use the sorted() to sort. \n",
    "\n",
    "Then we simply display the results.\n"
   ]
  },
  {
   "cell_type": "code",
   "execution_count": 34,
   "id": "60c6b012",
   "metadata": {},
   "outputs": [
    {
     "name": "stdout",
     "output_type": "stream",
     "text": [
      "[[5.5777777777777775, '09'], [14.741176470588234, '13'], [13.440677966101696, '10'], [13.233644859813085, '14'], [16.796296296296298, '16'], [7.985294117647059, '23'], [9.41095890410959, '12'], [11.46, '17'], [38.5948275862069, '15'], [16.009174311926607, '21'], [21.525, '20'], [23.810344827586206, '02'], [13.20183486238532, '18'], [7.796296296296297, '03'], [10.08695652173913, '05'], [10.8, '19'], [11.383333333333333, '01'], [6.746478873239437, '22'], [10.25, '08'], [7.170212765957447, '04'], [8.127272727272727, '00'], [9.022727272727273, '06'], [7.852941176470588, '07'], [11.051724137931034, '11']]\n"
     ]
    },
    {
     "data": {
      "text/plain": [
       "[[38.5948275862069, '15'],\n",
       " [23.810344827586206, '02'],\n",
       " [21.525, '20'],\n",
       " [16.796296296296298, '16'],\n",
       " [16.009174311926607, '21'],\n",
       " [14.741176470588234, '13'],\n",
       " [13.440677966101696, '10'],\n",
       " [13.233644859813085, '14'],\n",
       " [13.20183486238532, '18'],\n",
       " [11.46, '17'],\n",
       " [11.383333333333333, '01'],\n",
       " [11.051724137931034, '11'],\n",
       " [10.8, '19'],\n",
       " [10.25, '08'],\n",
       " [10.08695652173913, '05'],\n",
       " [9.41095890410959, '12'],\n",
       " [9.022727272727273, '06'],\n",
       " [8.127272727272727, '00'],\n",
       " [7.985294117647059, '23'],\n",
       " [7.852941176470588, '07'],\n",
       " [7.796296296296297, '03'],\n",
       " [7.170212765957447, '04'],\n",
       " [6.746478873239437, '22'],\n",
       " [5.5777777777777775, '09']]"
      ]
     },
     "execution_count": 34,
     "metadata": {},
     "output_type": "execute_result"
    }
   ],
   "source": [
    "swap_avg_by_hour = []\n",
    "\n",
    "for row in avg_by_hour:\n",
    "    swap_avg_by_hour.append([row[1], row[0]])\n",
    "    \n",
    "print(swap_avg_by_hour)\n",
    "\n",
    "sorted_swap = sorted(swap_avg_by_hour, reverse = True)\n",
    "\n",
    "sorted_swap"
   ]
  },
  {
   "cell_type": "code",
   "execution_count": 35,
   "id": "c2b8679e",
   "metadata": {},
   "outputs": [
    {
     "name": "stdout",
     "output_type": "stream",
     "text": [
      "Top 5 hours for Ask Posts Comments.\n",
      "15:00: 38.59 average comments per post\n",
      "02:00: 23.81 average comments per post\n",
      "20:00: 21.52 average comments per post\n",
      "16:00: 16.80 average comments per post\n",
      "21:00: 16.01 average comments per post\n"
     ]
    }
   ],
   "source": [
    "print(\"Top 5 hours for Ask Posts Comments.\")\n",
    "\n",
    "for avg, hr in sorted_swap[:5]:\n",
    "    print(\n",
    "    \"{}: {:.2f} average comments per post\".format(dt.datetime.strptime(hr, \"%H\").strftime(\"%H:%M\"), avg)\n",
    "    )\n",
    "    "
   ]
  },
  {
   "cell_type": "markdown",
   "id": "a862ae1d",
   "metadata": {},
   "source": [
    "The hour that receives the most comments in 15:00, with an average of 38.59 comments per post. There's 60% increase between the hours with the highest and second highest average number of comments."
   ]
  },
  {
   "cell_type": "markdown",
   "id": "4a17d23b",
   "metadata": {},
   "source": [
    "# Conclusion\n",
    "\n",
    "In this project we took the Hacker News data set and cleaned and filtered the data to determine the hours that produce the most comments on average. Based on this analysis, to maximize the amount of comments a post receives, we'd recommend the post be categorized as a 'Ask HN' post and be created between 15:00 and 16:00 (3:00 pm est - 4:00 pm est)."
   ]
  }
 ],
 "metadata": {
  "kernelspec": {
   "display_name": "Python 3 (ipykernel)",
   "language": "python",
   "name": "python3"
  },
  "language_info": {
   "codemirror_mode": {
    "name": "ipython",
    "version": 3
   },
   "file_extension": ".py",
   "mimetype": "text/x-python",
   "name": "python",
   "nbconvert_exporter": "python",
   "pygments_lexer": "ipython3",
   "version": "3.9.12"
  }
 },
 "nbformat": 4,
 "nbformat_minor": 5
}

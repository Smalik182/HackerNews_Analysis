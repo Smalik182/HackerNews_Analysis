{
 "cells": [
  {
   "cell_type": "markdown",
   "id": "c994b838",
   "metadata": {},
   "source": [
    "Getting the Data"
   ]
  },
  {
   "cell_type": "code",
   "execution_count": 1,
   "id": "7daa3448",
   "metadata": {},
   "outputs": [
    {
     "name": "stdout",
     "output_type": "stream",
     "text": [
      "['id', 'title', 'url', 'num_points', 'num_comments', 'author', 'created_at']\n"
     ]
    }
   ],
   "source": [
    "import datetime as dt\n",
    "import random\n",
    "from csv import reader\n",
    "\n",
    "opened_file = open(r\"C:\\Users\\MalikSami\\Desktop\\Data_Analytics\\HackerNews_Analysis\\hacker_news.csv\",\n",
    "                   encoding=\"utf8\")\n",
    "read_file = reader(opened_file)\n",
    "\n",
    "hn = list(read_file)\n",
    "\n",
    "header = hn[0]\n",
    "print(header)\n",
    "hn = hn[1:] ## This will remove the header from the list\n",
    "\n",
    "\n",
    "\n"
   ]
  },
  {
   "cell_type": "code",
   "execution_count": 2,
   "id": "fa3bb866",
   "metadata": {},
   "outputs": [
    {
     "name": "stdout",
     "output_type": "stream",
     "text": [
      "['10975351', 'How to Use Open Source and Shut the Fuck Up at the Same Time', 'http://hueniverse.com/2016/01/26/how-to-use-open-source-and-shut-the-fuck-up-at-the-same-time/', '39', '10', 'josep2', '1/26/2016 19:30']\n"
     ]
    }
   ],
   "source": [
    "print(hn[1])"
   ]
  },
  {
   "cell_type": "markdown",
   "id": "22acd3d2",
   "metadata": {},
   "source": [
    "## Explore Data Function\n",
    "\n",
    "This function will allow us to view data slices with ease. "
   ]
  },
  {
   "cell_type": "code",
   "execution_count": 3,
   "id": "edc636f1",
   "metadata": {},
   "outputs": [],
   "source": [
    "def explore_data(dataSet, start, end, rows_and_columns = False):\n",
    "    dataSet_slice = dataSet[start:end]\n",
    "    for row in dataSet_slice:\n",
    "        print(row)\n",
    "        print('\\n')\n",
    "    if rows_and_columns:\n",
    "        print('Number of rows: ', len(dataSet))\n",
    "        print('Number of columns: ', len(dataSet[0]))"
   ]
  },
  {
   "cell_type": "markdown",
   "id": "f02340bc",
   "metadata": {},
   "source": [
    "## Removing the data with 0 comments\n",
    "\n",
    "Here we create a new list and populate it with the rows that have at least one comment. We can do this by running a for loop to iterate through the data and append into the new list as long as the attribute of the 4th column is not \"0\"(note this is a string, not an integer)."
   ]
  },
  {
   "cell_type": "code",
   "execution_count": 4,
   "id": "415955f1",
   "metadata": {},
   "outputs": [],
   "source": [
    "hn_with_comments = []\n",
    "for row in hn:\n",
    "    comments = row[4]\n",
    "    if comments != \"0\":\n",
    "        hn_with_comments.append(row)"
   ]
  },
  {
   "cell_type": "code",
   "execution_count": 5,
   "id": "5f9ca0ee",
   "metadata": {},
   "outputs": [
    {
     "name": "stdout",
     "output_type": "stream",
     "text": [
      "['10975351', 'How to Use Open Source and Shut the Fuck Up at the Same Time', 'http://hueniverse.com/2016/01/26/how-to-use-open-source-and-shut-the-fuck-up-at-the-same-time/', '39', '10', 'josep2', '1/26/2016 19:30']\n",
      "20100\n"
     ]
    }
   ],
   "source": [
    "print(hn_with_comments[1])\n",
    "print(len(hn_with_comments))"
   ]
  },
  {
   "cell_type": "markdown",
   "id": "46142259",
   "metadata": {},
   "source": [
    "## Further Filtering\n",
    "\n",
    "We want to split the data into seperate lists of:\n",
    "    ask_posts[]\n",
    "    show_posts[]\n",
    "    other_posts[]\n",
    "    \n",
    "This will make the analysis easier.\n",
    "We should iterate through the filtered list \"hn_with_comments\" and assign the second column \"title\" to a variable named title.\n",
    "Then we can make use of the lower() to make all the data inside this column lowercase. This will help in not making any errors with our code.\n",
    "Next we can write a simple if statement and use the startswith() to append into the proper list. \n"
   ]
  },
  {
   "cell_type": "code",
   "execution_count": 6,
   "id": "5f6ab6f3",
   "metadata": {},
   "outputs": [],
   "source": [
    "ask_posts = []\n",
    "show_posts = []\n",
    "other_posts = []\n",
    "\n",
    "for row in hn_with_comments:\n",
    "    title = row[1]\n",
    "    title = title.lower()\n",
    "    if title.startswith(\"ask hn\"):\n",
    "        ask_posts.append(row)\n",
    "    elif title.startswith(\"show hn\"):\n",
    "        show_posts.append(row)\n",
    "    else:\n",
    "        other_posts.append(row)"
   ]
  },
  {
   "cell_type": "code",
   "execution_count": 83,
   "id": "1e70f949",
   "metadata": {},
   "outputs": [
    {
     "name": "stdout",
     "output_type": "stream",
     "text": [
      "['12578908', 'Ask HN: What TLD do you use for local development?', '', '4', '7', 'Sevrene', '9/26/2016 2:53']\n",
      "\n",
      "\n",
      "['12578522', 'Ask HN: How do you pass on your work when you die?', '', '6', '3', 'PascLeRasc', '9/26/2016 1:17']\n",
      "\n",
      "\n",
      "['12577870', 'Ask HN: Why join a fund when you can be an angel?', '', '1', '3', 'anthony_james', '9/25/2016 22:48']\n",
      "\n",
      "\n",
      "['12577647', 'Ask HN: Someone uses stock trading as passive income?', '', '5', '2', '00taffe', '9/25/2016 21:50']\n",
      "\n",
      "\n",
      "Number of rows:  6911\n",
      "Number of columns:  7\n"
     ]
    }
   ],
   "source": [
    "explore_data(ask_posts, 0, 4, True)"
   ]
  },
  {
   "cell_type": "code",
   "execution_count": 7,
   "id": "be2f36f2",
   "metadata": {},
   "outputs": [
    {
     "name": "stdout",
     "output_type": "stream",
     "text": [
      "The number of ask posts are:  1744\n",
      "The number of show posts are:  1162\n",
      "The number of other posts are:  17194\n"
     ]
    }
   ],
   "source": [
    "print(\"The number of ask posts are: \", len(ask_posts))\n",
    "print(\"The number of show posts are: \", len(show_posts))\n",
    "print(\"The number of other posts are: \", len(other_posts))"
   ]
  },
  {
   "cell_type": "code",
   "execution_count": null,
   "id": "d33b48f4",
   "metadata": {},
   "outputs": [],
   "source": []
  },
  {
   "cell_type": "markdown",
   "id": "54de5558",
   "metadata": {},
   "source": [
    "## Which posts recieve more comments? Ask or Show?\n",
    "\n"
   ]
  },
  {
   "cell_type": "code",
   "execution_count": 13,
   "id": "bb3f4649",
   "metadata": {},
   "outputs": [
    {
     "name": "stdout",
     "output_type": "stream",
     "text": [
      "Total number of ask comments is:  24483\n",
      "1744\n",
      "The average number of comments on ask posts are:  14.038417431192661\n"
     ]
    }
   ],
   "source": [
    "total_ask_comments = 0\n",
    "\n",
    "for posts in ask_posts:\n",
    "    total_ask_comments += int(posts[4])\n",
    "    \n",
    "    \n",
    "print(\"Total number of ask comments is: \",  total_ask_comments)\n",
    "average_ask_comments = total_ask_comments / len(ask_posts)\n",
    "print(\"The average number of comments on ask posts are: \", average_ask_comments)\n",
    "    \n"
   ]
  },
  {
   "cell_type": "code",
   "execution_count": 14,
   "id": "a5003052",
   "metadata": {},
   "outputs": [
    {
     "name": "stdout",
     "output_type": "stream",
     "text": [
      "Total number of show comments is:  11988\n",
      "1162\n",
      "The average number of comments on show posts are:  10.31669535283993\n"
     ]
    }
   ],
   "source": [
    "total_show_comments = 0\n",
    "\n",
    "for posts in show_posts:\n",
    "\n",
    "    total_show_comments += int(posts[4])\n",
    "    \n",
    "    \n",
    "print(\"Total number of show comments is: \",  total_show_comments)\n",
    "average_show_comments = total_show_comments / len(show_posts)\n",
    "print(\"The average number of comments on show posts are: \", average_show_comments)"
   ]
  },
  {
   "cell_type": "code",
   "execution_count": null,
   "id": "597b61b4",
   "metadata": {},
   "outputs": [],
   "source": []
  },
  {
   "cell_type": "code",
   "execution_count": null,
   "id": "51f56a60",
   "metadata": {},
   "outputs": [],
   "source": []
  }
 ],
 "metadata": {
  "kernelspec": {
   "display_name": "Python 3 (ipykernel)",
   "language": "python",
   "name": "python3"
  },
  "language_info": {
   "codemirror_mode": {
    "name": "ipython",
    "version": 3
   },
   "file_extension": ".py",
   "mimetype": "text/x-python",
   "name": "python",
   "nbconvert_exporter": "python",
   "pygments_lexer": "ipython3",
   "version": "3.9.12"
  }
 },
 "nbformat": 4,
 "nbformat_minor": 5
}
